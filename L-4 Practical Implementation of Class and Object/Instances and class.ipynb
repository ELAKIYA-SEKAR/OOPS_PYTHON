{
 "cells": [
  {
   "cell_type": "code",
   "execution_count": null,
   "id": "cf1fb631-35cd-4390-bddb-888826b30cbd",
   "metadata": {},
   "outputs": [],
   "source": [
    "class Atm:\n",
    "    # functions vs methods\n",
    "    # methods are basically a function which is written inside a class\n",
    "    # function is a normal function which is not written in class\n",
    "\n",
    "    # variables are declared in __init__\n",
    "    def __init__(self):\n",
    "        self.pin = \"\"\n",
    "        self.balance = 0\n",
    "        self.menu()\n",
    "\n",
    "    def menu(self):\n",
    "        user_input = input(\"\"\"\n",
    "Hello,how would you like to proceed?\n",
    "1.Enter 1 to create pin\n",
    "2. Enter 2 to deposit\n",
    "3. Enter 3 to withdraw\n",
    "4. Enter 4 to check balance\n",
    "5. Enter 5 to exit\"\"\")\n",
    "        if user_input == \"1\":\n",
    "            self.create_pin()\n",
    "        elif user_input == \"2\":\n",
    "            self.deposit()\n",
    "        elif user_input == \"3\":\n",
    "            self.withdraw()\n",
    "        elif user_input == \"4\":\n",
    "            self.check_balance()\n",
    "        elif user_input == \"5\":\n",
    "            print(\"Thank you.Come Again\")\n",
    "        else:\n",
    "            print(\"You have entered wrong number.Thank you\")\n",
    "\n",
    "    def create_pin(self):\n",
    "        self.pin = input(\"Enter your pin: \")\n",
    "        print(\"Pin set succesfully.\")\n",
    "\n",
    "    def deposit(self):\n",
    "        attempts = 0\n",
    "        while attempts < 3:\n",
    "            temp = input(\"Enter your Account pin: \")\n",
    "            if temp == self.pin:\n",
    "                deposit_amount = int(\n",
    "                    input(\"Enter the amount you want to deposit: \"))\n",
    "                self.balance += deposit_amount\n",
    "                print(\"Amount is deposited succesfully.\")\n",
    "                return\n",
    "            else:\n",
    "                attempts += 1\n",
    "                print(f\"Incorrect pin. You have {\n",
    "                      3-attempts} attempts remaining\")\n",
    "        print(\"Too many incorrect attempts.Try again later\")\n",
    "\n",
    "    def withdraw(self):\n",
    "        attempts = 0\n",
    "        while attempts < 3:\n",
    "            temp = input(\"Enter your Account pin: \")\n",
    "            if temp == self.pin:\n",
    "                deposit_amount = int(\n",
    "                    input(\"Enter the amount you want to Withdraw: \"))\n",
    "                if deposit_amount < self.balance:\n",
    "                    print(\"Insufficient balance\")\n",
    "                else:\n",
    "                    self.balance -= deposit_amount\n",
    "                    print(\"Amount is Withdrawn succesfully.\")\n",
    "                    return\n",
    "            else:\n",
    "                attempts += 1\n",
    "                print(f\"Incorrect pin. You have {\n",
    "                    3-attempts} attempts remaining\")\n",
    "                print(\"Too many incorrect attempts.Try again later\")\n",
    "\n",
    "    def check_balance(self):\n",
    "        attempts = 0\n",
    "        temp = input(\"Enter your Account pin: \")\n",
    "        if temp == self.pin:\n",
    "            print(\"You current balance is\", self.balance)\n",
    "        else:\n",
    "            attempts += 1\n",
    "            print(f\"Incorrect pin. You have {\n",
    "                3-attempts} attempts remaining\")\n",
    "            print(\"Too many incorrect attempts.Try again later\")"
   ]
  },
  {
   "cell_type": "code",
   "execution_count": null,
   "metadata": {},
   "outputs": [
    {
     "name": "stdout",
     "output_type": "stream",
     "text": [
      "Pin set succesfully.\n"
     ]
    }
   ],
   "source": [
    "sbi=Atm()"
   ]
  },
  {
   "cell_type": "code",
   "execution_count": null,
   "metadata": {},
   "outputs": [
    {
     "name": "stdout",
     "output_type": "stream",
     "text": [
      "You current balance is 0\n"
     ]
    }
   ],
   "source": [
    "sbi.check_balance()"
   ]
  },
  {
   "cell_type": "code",
   "execution_count": null,
   "metadata": {},
   "outputs": [
    {
     "ename": "TypeError",
     "evalue": "'str' object is not callable",
     "output_type": "error",
     "traceback": [
      "\u001b[1;31m---------------------------------------------------------------------------\u001b[0m",
      "\u001b[1;31mTypeError\u001b[0m                                 Traceback (most recent call last)",
      "Cell \u001b[1;32mIn[5], line 1\u001b[0m\n\u001b[1;32m----> 1\u001b[0m sbi\u001b[39m.\u001b[39;49mpin()\n",
      "\u001b[1;31mTypeError\u001b[0m: 'str' object is not callable"
     ]
    }
   ],
   "source": [
    "sbi.pin()"
   ]
  },
  {
   "cell_type": "code",
   "execution_count": null,
   "metadata": {},
   "outputs": [
    {
     "data": {
      "text/plain": [
       "'123'"
      ]
     },
     "execution_count": 6,
     "metadata": {},
     "output_type": "execute_result"
    }
   ],
   "source": [
    "sbi.pin"
   ]
  },
  {
   "cell_type": "code",
   "execution_count": null,
   "metadata": {},
   "outputs": [
    {
     "name": "stdout",
     "output_type": "stream",
     "text": [
      "Amount is deposited succesfully.\n"
     ]
    }
   ],
   "source": [
    "sbi.deposit()"
   ]
  },
  {
   "cell_type": "code",
   "execution_count": null,
   "metadata": {},
   "outputs": [
    {
     "name": "stdout",
     "output_type": "stream",
     "text": [
      "Insufficient balance\n",
      "Incorrect pin. You have 2 attempts remaining\n",
      "Too many incorrect attempts.Try again later\n",
      "Incorrect pin. You have 1 attempts remaining\n",
      "Too many incorrect attempts.Try again later\n",
      "Incorrect pin. You have 0 attempts remaining\n",
      "Too many incorrect attempts.Try again later\n"
     ]
    }
   ],
   "source": [
    "sbi.withdraw()"
   ]
  },
  {
   "cell_type": "code",
   "execution_count": null,
   "metadata": {},
   "outputs": [
    {
     "name": "stdout",
     "output_type": "stream",
     "text": [
      "You current balance is 10000\n"
     ]
    }
   ],
   "source": [
    "sbi.check_balance()"
   ]
  },
  {
   "cell_type": "code",
   "execution_count": null,
   "metadata": {},
   "outputs": [
    {
     "name": "stdout",
     "output_type": "stream",
     "text": [
      "Insufficient balance\n",
      "Insufficient balance\n",
      "Incorrect pin. You have 2 attempts remaining\n",
      "Too many incorrect attempts.Try again later\n",
      "Incorrect pin. You have 1 attempts remaining\n",
      "Too many incorrect attempts.Try again later\n",
      "Incorrect pin. You have 0 attempts remaining\n",
      "Too many incorrect attempts.Try again later\n"
     ]
    }
   ],
   "source": [
    "sbi.withdraw()"
   ]
  },
  {
   "cell_type": "code",
   "execution_count": null,
   "metadata": {},
   "outputs": [
    {
     "name": "stdout",
     "output_type": "stream",
     "text": [
      "Incorrect pin. You have 2 attempts remaining\n",
      "Too many incorrect attempts.Try again later\n"
     ]
    }
   ],
   "source": [
    "sbi.check_balance()"
   ]
  },
  {
   "cell_type": "code",
   "execution_count": null,
   "metadata": {},
   "outputs": [
    {
     "data": {
      "text/plain": [
       "123"
      ]
     },
     "execution_count": 12,
     "metadata": {},
     "output_type": "execute_result"
    }
   ],
   "source": [
    "123"
   ]
  },
  {
   "cell_type": "code",
   "execution_count": null,
   "metadata": {},
   "outputs": [
    {
     "name": "stdout",
     "output_type": "stream",
     "text": [
      "Incorrect pin. You have 2 attempts remaining\n",
      "Too many incorrect attempts.Try again later\n"
     ]
    }
   ],
   "source": [
    "sbi.check_balance()"
   ]
  },
  {
   "cell_type": "code",
   "execution_count": null,
   "metadata": {},
   "outputs": [
    {
     "name": "stdout",
     "output_type": "stream",
     "text": [
      "You current balance is 10000\n"
     ]
    }
   ],
   "source": [
    "sbi.check_balance()"
   ]
  },
  {
   "cell_type": "code",
   "execution_count": null,
   "metadata": {},
   "outputs": [
    {
     "name": "stdout",
     "output_type": "stream",
     "text": [
      "Insufficient balance\n"
     ]
    }
   ],
   "source": [
    "sbi.withdraw()"
   ]
  },
  {
   "cell_type": "code",
   "execution_count": null,
   "metadata": {},
   "outputs": [],
   "source": [
    "from Atm_class import Atm"
   ]
  },
  {
   "cell_type": "code",
   "execution_count": null,
   "metadata": {},
   "outputs": [
    {
     "name": "stdout",
     "output_type": "stream",
     "text": [
      "You have entered wrong number.Thank you\n"
     ]
    }
   ],
   "source": [
    "sbi=Atm()"
   ]
  },
  {
   "cell_type": "code",
   "execution_count": null,
   "metadata": {},
   "outputs": [
    {
     "name": "stdout",
     "output_type": "stream",
     "text": [
      "Pin set succesfully.\n"
     ]
    }
   ],
   "source": [
    "sbi=Atm()"
   ]
  },
  {
   "cell_type": "code",
   "execution_count": null,
   "metadata": {},
   "outputs": [
    {
     "name": "stdout",
     "output_type": "stream",
     "text": [
      "Amount is deposited succesfully.\n"
     ]
    }
   ],
   "source": [
    "sbi.deposit()"
   ]
  },
  {
   "cell_type": "code",
   "execution_count": null,
   "metadata": {},
   "outputs": [
    {
     "name": "stdout",
     "output_type": "stream",
     "text": [
      "Amount is Withdrawn succesfully.\n"
     ]
    }
   ],
   "source": [
    "sbi.withdraw()"
   ]
  },
  {
   "cell_type": "code",
   "execution_count": null,
   "metadata": {},
   "outputs": [
    {
     "name": "stdout",
     "output_type": "stream",
     "text": [
      "You current balance is 499500\n"
     ]
    }
   ],
   "source": [
    "sbi.check_balance()"
   ]
  },
  {
   "cell_type": "code",
   "execution_count": null,
   "metadata": {},
   "outputs": [
    {
     "name": "stdout",
     "output_type": "stream",
     "text": [
      "Incorrect pin. You have 2 attempts remaining\n",
      "Too many incorrect attempts.Try again later\n"
     ]
    }
   ],
   "source": [
    "sbi.check_balance()"
   ]
  },
  {
   "cell_type": "code",
   "execution_count": null,
   "metadata": {},
   "outputs": [
    {
     "name": "stdout",
     "output_type": "stream",
     "text": [
      "Pin set succesfully.\n"
     ]
    }
   ],
   "source": [
    "hdfc=Atm()"
   ]
  },
  {
   "cell_type": "code",
   "execution_count": null,
   "metadata": {},
   "outputs": [
    {
     "name": "stdout",
     "output_type": "stream",
     "text": [
      "Amount is deposited succesfully.\n"
     ]
    }
   ],
   "source": [
    "hdfc.deposit()"
   ]
  },
  {
   "cell_type": "code",
   "execution_count": null,
   "metadata": {},
   "outputs": [
    {
     "data": {
      "text/plain": [
       "1000"
      ]
     },
     "execution_count": 11,
     "metadata": {},
     "output_type": "execute_result"
    }
   ],
   "source": [
    "hdfc.balance"
   ]
  },
  {
   "cell_type": "code",
   "execution_count": null,
   "metadata": {},
   "outputs": [
    {
     "data": {
      "text/plain": [
       "499500"
      ]
     },
     "execution_count": 12,
     "metadata": {},
     "output_type": "execute_result"
    }
   ],
   "source": [
    "sbi.balance"
   ]
  }
 ],
 "metadata": {
  "language_info": {
   "codemirror_mode": {
    "name": "ipython",
    "version": 3
   },
   "file_extension": ".py",
   "mimetype": "text/x-python",
   "name": "python",
   "nbconvert_exporter": "python",
   "pygments_lexer": "ipython3",
   "version": 3
  }
 },
 "nbformat": 4,
 "nbformat_minor": 2
}
