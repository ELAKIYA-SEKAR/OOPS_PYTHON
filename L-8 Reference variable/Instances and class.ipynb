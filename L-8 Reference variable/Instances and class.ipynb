{
 "cells": [
  {
   "cell_type": "code",
   "execution_count": 1,
   "id": "cf1fb631-35cd-4390-bddb-888826b30cbd",
   "metadata": {},
   "outputs": [],
   "source": [
    "class Atm:\n",
    "    # functions vs methods\n",
    "    # methods are basically a function which is written inside a class\n",
    "    # function is a normal function which is not written in class\n",
    "\n",
    "    # variables are declared in __init__\n",
    "    def __init__(self):\n",
    "        self.pin = \"\"\n",
    "        self.balance = 0\n",
    "        self.menu()\n",
    "\n",
    "    def menu(self):\n",
    "        user_input = input(\"\"\"\n",
    "Hello,how would you like to proceed?\n",
    "1.Enter 1 to create pin\n",
    "2. Enter 2 to deposit\n",
    "3. Enter 3 to withdraw\n",
    "4. Enter 4 to check balance\n",
    "5. Enter 5 to exit\"\"\")\n",
    "        if user_input == \"1\":\n",
    "            self.create_pin()\n",
    "        elif user_input == \"2\":\n",
    "            self.deposit()\n",
    "        elif user_input == \"3\":\n",
    "            self.withdraw()\n",
    "        elif user_input == \"4\":\n",
    "            self.check_balance()\n",
    "        elif user_input == \"5\":\n",
    "            print(\"Thank you.Come Again\")\n",
    "        else:\n",
    "            print(\"You have entered wrong number.Thank you\")\n",
    "\n",
    "    def create_pin(self):\n",
    "        self.pin = input(\"Enter your pin: \")\n",
    "        print(\"Pin set succesfully.\")\n",
    "\n",
    "    def deposit(self):\n",
    "        attempts = 0\n",
    "        while attempts < 3:\n",
    "            temp = input(\"Enter your Account pin: \")\n",
    "            if temp == self.pin:\n",
    "                deposit_amount = int(\n",
    "                    input(\"Enter the amount you want to deposit: \"))\n",
    "                self.balance += deposit_amount\n",
    "                print(\"Amount is deposited succesfully.\")\n",
    "                return\n",
    "            else:\n",
    "                attempts += 1\n",
    "                print(f\"Incorrect pin. You have {\n",
    "                      3-attempts} attempts remaining\")\n",
    "        print(\"Too many incorrect attempts.Try again later\")\n",
    "\n",
    "    def withdraw(self):\n",
    "        attempts = 0\n",
    "        while attempts < 3:\n",
    "            temp = input(\"Enter your Account pin: \")\n",
    "            if temp == self.pin:\n",
    "                deposit_amount = int(\n",
    "                    input(\"Enter the amount you want to Withdraw: \"))\n",
    "                if deposit_amount < self.balance:\n",
    "                    print(\"Insufficient balance\")\n",
    "                else:\n",
    "                    self.balance -= deposit_amount\n",
    "                    print(\"Amount is Withdrawn succesfully.\")\n",
    "                    return\n",
    "            else:\n",
    "                attempts += 1\n",
    "                print(f\"Incorrect pin. You have {\n",
    "                    3-attempts} attempts remaining\")\n",
    "                print(\"Too many incorrect attempts.Try again later\")\n",
    "\n",
    "    def check_balance(self):\n",
    "        attempts = 0\n",
    "        temp = input(\"Enter your Account pin: \")\n",
    "        if temp == self.pin:\n",
    "            print(\"You current balance is\", self.balance)\n",
    "        else:\n",
    "            attempts += 1\n",
    "            print(f\"Incorrect pin. You have {\n",
    "                3-attempts} attempts remaining\")\n",
    "            print(\"Too many incorrect attempts.Try again later\")"
   ]
  },
  {
   "cell_type": "code",
   "execution_count": 2,
   "metadata": {},
   "outputs": [
    {
     "name": "stdout",
     "output_type": "stream",
     "text": [
      "You have entered wrong number.Thank you\n"
     ]
    },
    {
     "data": {
      "text/plain": [
       "<__main__.Atm at 0x295a92e2480>"
      ]
     },
     "execution_count": 2,
     "metadata": {},
     "output_type": "execute_result"
    }
   ],
   "source": [
    "Atm()"
   ]
  },
  {
   "cell_type": "code",
   "execution_count": 3,
   "metadata": {},
   "outputs": [],
   "source": [
    "#we cannot access the Atm() object defined above coz we havent \n",
    "#declared it in any variable the object is lost"
   ]
  },
  {
   "cell_type": "code",
   "execution_count": 4,
   "metadata": {},
   "outputs": [
    {
     "name": "stdout",
     "output_type": "stream",
     "text": [
      "You have entered wrong number.Thank you\n"
     ]
    }
   ],
   "source": [
    "sbi=Atm()"
   ]
  },
  {
   "cell_type": "code",
   "execution_count": 5,
   "metadata": {},
   "outputs": [],
   "source": [
    "#technically,\n",
    "# sbi is not object but it is a variable which points the actual address to the atm() object"
   ]
  },
  {
   "cell_type": "code",
   "execution_count": 6,
   "metadata": {},
   "outputs": [],
   "source": [
    "#a varible which points the objects memory location is the reference variable"
   ]
  },
  {
   "cell_type": "code",
   "execution_count": null,
   "metadata": {},
   "outputs": [],
   "source": []
  }
 ],
 "metadata": {
  "kernelspec": {
   "display_name": "Python 3",
   "language": "python",
   "name": "python3"
  },
  "language_info": {
   "codemirror_mode": {
    "name": "ipython",
    "version": 3
   },
   "file_extension": ".py",
   "mimetype": "text/x-python",
   "name": "python",
   "nbconvert_exporter": "python",
   "pygments_lexer": "ipython3",
   "version": "3.12.3"
  }
 },
 "nbformat": 4,
 "nbformat_minor": 2
}
