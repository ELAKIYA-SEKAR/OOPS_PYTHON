{
 "cells": [
  {
   "cell_type": "code",
   "execution_count": null,
   "id": "593826dd-d27c-4436-870b-4252e9f74152",
   "metadata": {},
   "outputs": [],
   "source": [
    "class Atm:\n",
    "    # static or class variable\n",
    "    counter = 1\n",
    "\n",
    "    def __init__(self):\n",
    "        # instance variable\n",
    "        self.pin = \"\"\n",
    "        self.balance = 0\n",
    "        self.sno = Atm.counter\n",
    "        Atm.counter += 1\n",
    "\n",
    "        self.menu()\n",
    "\n",
    "    def menu(self):\n",
    "        user_input = input(\"\"\"\n",
    "Hello,how would you like to proceed?\n",
    "1.Enter 1 to create pin\n",
    "2. Enter 2 to deposit\n",
    "3. Enter 3 to withdraw\n",
    "4. Enter 4 to check balance\n",
    "5. Enter 5 to exit\"\"\")\n",
    "        if user_input == \"1\":\n",
    "            self.create_pin()\n",
    "        elif user_input == \"2\":\n",
    "            self.deposit()\n",
    "        elif user_input == \"3\":\n",
    "            self.withdraw()\n",
    "        elif user_input == \"4\":\n",
    "            self.check_balance()\n",
    "        elif user_input == \"5\":\n",
    "            print(\"Thank you.Come Again\")\n",
    "        else:\n",
    "            print(\"You have entered wrong number.Thank you\")\n",
    "\n",
    "    def create_pin(self):\n",
    "        self.pin = input(\"Enter your pin: \")\n",
    "        print(\"Pin set succesfully.\")\n",
    "\n",
    "    def deposit(self):\n",
    "        attempts = 0\n",
    "        while attempts < 3:\n",
    "            temp = input(\"Enter your Account pin: \")\n",
    "            if temp == self.pin:\n",
    "                deposit_amount = int(\n",
    "                    input(\"Enter the amount you want to deposit: \"))\n",
    "                self.balance += deposit_amount\n",
    "                print(\"Amount is deposited succesfully.\")\n",
    "                return\n",
    "            else:\n",
    "                attempts += 1\n",
    "                print(f\"Incorrect pin. You have {\n",
    "                      3-attempts} attempts remaining\")\n",
    "        print(\"Too many incorrect attempts.Try again later\")\n",
    "\n",
    "    def withdraw(self):\n",
    "        attempts = 0\n",
    "        while attempts < 3:\n",
    "            temp = input(\"Enter your Account pin: \")\n",
    "            if temp == self.pin:\n",
    "                deposit_amount = int(\n",
    "                    input(\"Enter the amount you want to Withdraw: \"))\n",
    "                if deposit_amount > self.balance:\n",
    "                    print(\"Insufficient balance\")\n",
    "                else:\n",
    "                    self.balance -= deposit_amount\n",
    "                    print(\"Amount is Withdrawn succesfully.\")\n",
    "                    return\n",
    "            else:\n",
    "                attempts += 1\n",
    "                print(f\"Incorrect pin. You have {\n",
    "                    3-attempts} attempts remaining\")\n",
    "                print(\"Too many incorrect attempts.Try again later\")\n",
    "\n",
    "    def check_balance(self):\n",
    "        attempts = 0\n",
    "        temp = input(\"Enter your Account pin: \")\n",
    "        if temp == self.pin:\n",
    "            print(\"You current balance is\", self.balance)\n",
    "        else:\n",
    "            attempts += 1\n",
    "            print(f\"Incorrect pin. You have {\n",
    "                3-attempts} attempts remaining\")\n",
    "            print(\"Too many incorrect attempts.Try again later\")"
   ]
  },
  {
   "cell_type": "code",
   "execution_count": null,
   "metadata": {},
   "outputs": [
    {
     "name": "stdout",
     "output_type": "stream",
     "text": [
      "Thank you.Come Again\n"
     ]
    }
   ],
   "source": [
    "c1=Atm(\n",
    ")\n"
   ]
  },
  {
   "cell_type": "code",
   "execution_count": null,
   "metadata": {},
   "outputs": [
    {
     "name": "stdout",
     "output_type": "stream",
     "text": [
      "Thank you.Come Again\n"
     ]
    }
   ],
   "source": [
    "c2=Atm(\n",
    ")\n"
   ]
  },
  {
   "cell_type": "code",
   "execution_count": null,
   "metadata": {},
   "outputs": [
    {
     "name": "stdout",
     "output_type": "stream",
     "text": [
      "Thank you.Come Again\n"
     ]
    }
   ],
   "source": [
    "c3=Atm(\n",
    ")\n",
    "\n",
    "\n"
   ]
  },
  {
   "cell_type": "code",
   "execution_count": null,
   "metadata": {},
   "outputs": [
    {
     "ename": "AttributeError",
     "evalue": "'Atm' object has no attribute 'sn'",
     "output_type": "error",
     "traceback": [
      "\u001b[1;31m---------------------------------------------------------------------------\u001b[0m",
      "\u001b[1;31mAttributeError\u001b[0m                            Traceback (most recent call last)",
      "Cell \u001b[1;32mIn[5], line 1\u001b[0m\n\u001b[1;32m----> 1\u001b[0m c1\u001b[39m.\u001b[39;49msn\n",
      "\u001b[1;31mAttributeError\u001b[0m: 'Atm' object has no attribute 'sn'"
     ]
    }
   ],
   "source": [
    "c1.sn"
   ]
  },
  {
   "cell_type": "code",
   "execution_count": null,
   "metadata": {},
   "outputs": [
    {
     "data": {
      "text/plain": [
       "1"
      ]
     },
     "execution_count": 6,
     "metadata": {},
     "output_type": "execute_result"
    }
   ],
   "source": [
    "c1.sno"
   ]
  },
  {
   "cell_type": "code",
   "execution_count": null,
   "metadata": {},
   "outputs": [
    {
     "data": {
      "text/plain": [
       "2"
      ]
     },
     "execution_count": 7,
     "metadata": {},
     "output_type": "execute_result"
    }
   ],
   "source": [
    "c2.sno"
   ]
  },
  {
   "cell_type": "code",
   "execution_count": null,
   "metadata": {},
   "outputs": [
    {
     "data": {
      "text/plain": [
       "4"
      ]
     },
     "execution_count": 8,
     "metadata": {},
     "output_type": "execute_result"
    }
   ],
   "source": [
    "c3.counter"
   ]
  },
  {
   "cell_type": "code",
   "execution_count": null,
   "id": "06ec611a-ccbd-45bb-81cd-9307a4d81184",
   "metadata": {},
   "outputs": [
    {
     "ename": "SyntaxError",
     "evalue": "incomplete input (<ipython-input-9-e5ff9c68a6ef>, line 6)",
     "output_type": "error",
     "traceback": [
      "\u001b[1;36m  Cell \u001b[1;32mIn[9], line 6\u001b[1;36m\u001b[0m\n\u001b[1;33m    # instance variable\u001b[0m\n\u001b[1;37m                       ^\u001b[0m\n\u001b[1;31mSyntaxError\u001b[0m\u001b[1;31m:\u001b[0m incomplete input\n"
     ]
    }
   ],
   "source": [
    "class Atm:\n",
    "    # static or class variable\n",
    "    __counter = 1\n",
    "\n",
    "    def __init__(self):\n",
    "        # instance variable"
   ]
  },
  {
   "cell_type": "code",
   "execution_count": null,
   "id": "f7e29e1a-5290-4e4b-8512-7139e7a76ecc",
   "metadata": {},
   "outputs": [],
   "source": [
    "class Atm:\n",
    "    # static or class variable\n",
    "    __counter = 1\n",
    "\n",
    "    def __init__(self):\n",
    "        #instance variable\n",
    "        self.pin = \"\"\n",
    "        self.balance = 0\n",
    "        self.sno = Atm.__counter\n",
    "        Atm.__counter += 1\n",
    "\n",
    "        self.menu()\n",
    "\n",
    "    @staticmethod\n",
    "    def get_counter():\n",
    "        return Atm.__counter\n",
    "\n",
    "    @staticmethod\n",
    "    def set_counter(new):\n",
    "        if type(new) == int:\n",
    "            Atm.__counter = new\n",
    "        else:\n",
    "            print(\"It is not possible\")\n",
    "\n",
    "    def menu(self):\n",
    "        user_input = input(\"\"\"\n",
    "Hello,how would you like to proceed?\n",
    "1.Enter 1 to create pin\n",
    "2. Enter 2 to deposit\n",
    "3. Enter 3 to withdraw\n",
    "4. Enter 4 to check balance\n",
    "5. Enter 5 to exit\"\"\")\n",
    "        if user_input == \"1\":\n",
    "            self.create_pin()\n",
    "        elif user_input == \"2\":\n",
    "            self.deposit()\n",
    "        elif user_input == \"3\":\n",
    "            self.withdraw()\n",
    "        elif user_input == \"4\":\n",
    "            self.check_balance()\n",
    "        elif user_input == \"5\":\n",
    "            print(\"Thank you.Come Again\")\n",
    "        else:\n",
    "            print(\"You have entered wrong number.Thank you\")\n",
    "\n",
    "    def create_pin(self):\n",
    "        self.pin = input(\"Enter your pin: \")\n",
    "        print(\"Pin set succesfully.\")\n",
    "\n",
    "    def deposit(self):\n",
    "        attempts = 0\n",
    "        while attempts < 3:\n",
    "            temp = input(\"Enter your Account pin: \")\n",
    "            if temp == self.pin:\n",
    "                deposit_amount = int(\n",
    "                    input(\"Enter the amount you want to deposit: \"))\n",
    "                self.balance += deposit_amount\n",
    "                print(\"Amount is deposited succesfully.\")\n",
    "                return\n",
    "            else:\n",
    "                attempts += 1\n",
    "                print(f\"Incorrect pin. You have {\n",
    "                      3-attempts} attempts remaining\")\n",
    "        print(\"Too many incorrect attempts.Try again later\")\n",
    "\n",
    "    def withdraw(self):\n",
    "        attempts = 0\n",
    "        while attempts < 3:\n",
    "            temp = input(\"Enter your Account pin: \")\n",
    "            if temp == self.pin:\n",
    "                deposit_amount = int(\n",
    "                    input(\"Enter the amount you want to Withdraw: \"))\n",
    "                if deposit_amount > self.balance:\n",
    "                    print(\"Insufficient balance\")\n",
    "                else:\n",
    "                    self.balance -= deposit_amount\n",
    "                    print(\"Amount is Withdrawn succesfully.\")\n",
    "                    return\n",
    "            else:\n",
    "                attempts += 1\n",
    "                print(f\"Incorrect pin. You have {\n",
    "                    3-attempts} attempts remaining\")\n",
    "                print(\"Too many incorrect attempts.Try again later\")\n",
    "\n",
    "    def check_balance(self):\n",
    "        attempts = 0\n",
    "        temp = input(\"Enter your Account pin: \")\n",
    "        if temp == self.pin:\n",
    "            print(\"You current balance is\", self.balance)\n",
    "        else:\n",
    "            attempts += 1\n",
    "            print(f\"Incorrect pin. You have {\n",
    "                3-attempts} attempts remaining\")\n",
    "            print(\"Too many incorrect attempts.Try again later\")"
   ]
  },
  {
   "cell_type": "code",
   "execution_count": null,
   "metadata": {},
   "outputs": [
    {
     "name": "stdout",
     "output_type": "stream",
     "text": [
      "Thank you.Come Again\n"
     ]
    }
   ],
   "source": [
    "c1=Atm(\n",
    "\n",
    "\n",
    "\n",
    "\n",
    "\n",
    ")"
   ]
  },
  {
   "cell_type": "code",
   "execution_count": null,
   "metadata": {},
   "outputs": [],
   "source": [
    "c1.set_counter(3\n",
    ")\n",
    "\n"
   ]
  },
  {
   "cell_type": "code",
   "execution_count": null,
   "metadata": {},
   "outputs": [
    {
     "data": {
      "text/plain": [
       "3"
      ]
     },
     "execution_count": 13,
     "metadata": {},
     "output_type": "execute_result"
    }
   ],
   "source": [
    "c1.get_counter()\n",
    "\n",
    "\n"
   ]
  }
 ],
 "metadata": {
  "language_info": {
   "codemirror_mode": {
    "name": "ipython",
    "version": 3
   },
   "file_extension": ".py",
   "mimetype": "text/x-python",
   "name": "python",
   "nbconvert_exporter": "python",
   "pygments_lexer": "ipython3",
   "version": 3
  }
 },
 "nbformat": 4,
 "nbformat_minor": 2
}
