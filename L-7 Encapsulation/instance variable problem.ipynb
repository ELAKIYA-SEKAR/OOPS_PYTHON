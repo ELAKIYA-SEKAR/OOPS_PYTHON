{
 "cells": [
  {
   "cell_type": "code",
   "execution_count": 1,
   "id": "cf1fb631-35cd-4390-bddb-888826b30cbd",
   "metadata": {},
   "outputs": [],
   "source": [
    "class Atm:\n",
    "    # functions vs methods\n",
    "    # methods are basically a function which is written inside a class\n",
    "    # function is a normal function which is not written in class\n",
    "\n",
    "    # variables are declared in __init__\n",
    "    def __init__(self):\n",
    "        self.pin = \"\"\n",
    "        self.balance = 0\n",
    "        self.menu()\n",
    "\n",
    "    def menu(self):\n",
    "        user_input = input(\"\"\"\n",
    "Hello,how would you like to proceed?\n",
    "1.Enter 1 to create pin\n",
    "2. Enter 2 to deposit\n",
    "3. Enter 3 to withdraw\n",
    "4. Enter 4 to check balance\n",
    "5. Enter 5 to exit\"\"\")\n",
    "        if user_input == \"1\":\n",
    "            self.create_pin()\n",
    "        elif user_input == \"2\":\n",
    "            self.deposit()\n",
    "        elif user_input == \"3\":\n",
    "            self.withdraw()\n",
    "        elif user_input == \"4\":\n",
    "            self.check_balance()\n",
    "        elif user_input == \"5\":\n",
    "            print(\"Thank you.Come Again\")\n",
    "        else:\n",
    "            print(\"You have entered wrong number.Thank you\")\n",
    "\n",
    "    def create_pin(self):\n",
    "        self.pin = input(\"Enter your pin: \")\n",
    "        print(\"Pin set succesfully.\")\n",
    "\n",
    "    def deposit(self):\n",
    "        attempts = 0\n",
    "        while attempts < 3:\n",
    "            temp = input(\"Enter your Account pin: \")\n",
    "            if temp == self.pin:\n",
    "                deposit_amount = int(\n",
    "                    input(\"Enter the amount you want to deposit: \"))\n",
    "                self.balance += deposit_amount\n",
    "                print(\"Amount is deposited succesfully.\")\n",
    "                return\n",
    "            else:\n",
    "                attempts += 1\n",
    "                print(f\"Incorrect pin. You have {\n",
    "                      3-attempts} attempts remaining\")\n",
    "        print(\"Too many incorrect attempts.Try again later\")\n",
    "\n",
    "    def withdraw(self):\n",
    "        attempts = 0\n",
    "        while attempts < 3:\n",
    "            temp = input(\"Enter your Account pin: \")\n",
    "            if temp == self.pin:\n",
    "                deposit_amount = int(\n",
    "                    input(\"Enter the amount you want to Withdraw: \"))\n",
    "                if deposit_amount < self.balance:\n",
    "                    print(\"Insufficient balance\")\n",
    "                else:\n",
    "                    self.balance -= deposit_amount\n",
    "                    print(\"Amount is Withdrawn succesfully.\")\n",
    "                    return\n",
    "            else:\n",
    "                attempts += 1\n",
    "                print(f\"Incorrect pin. You have {\n",
    "                    3-attempts} attempts remaining\")\n",
    "                print(\"Too many incorrect attempts.Try again later\")\n",
    "\n",
    "    def check_balance(self):\n",
    "        attempts = 0\n",
    "        temp = input(\"Enter your Account pin: \")\n",
    "        if temp == self.pin:\n",
    "            print(\"You current balance is\", self.balance)\n",
    "        else:\n",
    "            attempts += 1\n",
    "            print(f\"Incorrect pin. You have {\n",
    "                3-attempts} attempts remaining\")\n",
    "            print(\"Too many incorrect attempts.Try again later\")"
   ]
  },
  {
   "cell_type": "code",
   "execution_count": 2,
   "metadata": {},
   "outputs": [
    {
     "name": "stdout",
     "output_type": "stream",
     "text": [
      "Pin set succesfully.\n"
     ]
    }
   ],
   "source": [
    "sbi=Atm()"
   ]
  },
  {
   "cell_type": "code",
   "execution_count": 3,
   "metadata": {},
   "outputs": [
    {
     "data": {
      "text/plain": [
       "0"
      ]
     },
     "execution_count": 3,
     "metadata": {},
     "output_type": "execute_result"
    }
   ],
   "source": [
    "sbi.balance"
   ]
  },
  {
   "cell_type": "code",
   "execution_count": 4,
   "metadata": {},
   "outputs": [],
   "source": [
    "sbi.balance=\"fkjgkdlf\""
   ]
  },
  {
   "cell_type": "code",
   "execution_count": 5,
   "metadata": {},
   "outputs": [
    {
     "ename": "TypeError",
     "evalue": "can only concatenate str (not \"int\") to str",
     "output_type": "error",
     "traceback": [
      "\u001b[1;31m---------------------------------------------------------------------------\u001b[0m",
      "\u001b[1;31mTypeError\u001b[0m                                 Traceback (most recent call last)",
      "Cell \u001b[1;32mIn[5], line 1\u001b[0m\n\u001b[1;32m----> 1\u001b[0m \u001b[43msbi\u001b[49m\u001b[38;5;241;43m.\u001b[39;49m\u001b[43mdeposit\u001b[49m\u001b[43m(\u001b[49m\u001b[43m)\u001b[49m\n",
      "Cell \u001b[1;32mIn[1], line 44\u001b[0m, in \u001b[0;36mAtm.deposit\u001b[1;34m(self)\u001b[0m\n\u001b[0;32m     41\u001b[0m \u001b[38;5;28;01mif\u001b[39;00m temp \u001b[38;5;241m==\u001b[39m \u001b[38;5;28mself\u001b[39m\u001b[38;5;241m.\u001b[39mpin:\n\u001b[0;32m     42\u001b[0m     deposit_amount \u001b[38;5;241m=\u001b[39m \u001b[38;5;28mint\u001b[39m(\n\u001b[0;32m     43\u001b[0m         \u001b[38;5;28minput\u001b[39m(\u001b[38;5;124m\"\u001b[39m\u001b[38;5;124mEnter the amount you want to deposit: \u001b[39m\u001b[38;5;124m\"\u001b[39m))\n\u001b[1;32m---> 44\u001b[0m     \u001b[38;5;28;43mself\u001b[39;49m\u001b[38;5;241;43m.\u001b[39;49m\u001b[43mbalance\u001b[49m\u001b[43m \u001b[49m\u001b[38;5;241;43m+\u001b[39;49m\u001b[38;5;241;43m=\u001b[39;49m\u001b[43m \u001b[49m\u001b[43mdeposit_amount\u001b[49m\n\u001b[0;32m     45\u001b[0m     \u001b[38;5;28mprint\u001b[39m(\u001b[38;5;124m\"\u001b[39m\u001b[38;5;124mAmount is deposited succesfully.\u001b[39m\u001b[38;5;124m\"\u001b[39m)\n\u001b[0;32m     46\u001b[0m     \u001b[38;5;28;01mreturn\u001b[39;00m\n",
      "\u001b[1;31mTypeError\u001b[0m: can only concatenate str (not \"int\") to str"
     ]
    }
   ],
   "source": [
    "sbi.deposit()"
   ]
  },
  {
   "cell_type": "code",
   "execution_count": 1,
   "metadata": {},
   "outputs": [],
   "source": [
    "#putting __pin before the instance variable to not get changed by the user"
   ]
  },
  {
   "cell_type": "code",
   "execution_count": 2,
   "metadata": {},
   "outputs": [],
   "source": [
    "class Atm:\n",
    "    # functions vs methods\n",
    "    # methods are basically a function which is written inside a class\n",
    "    # function is a normal function which is not written in class\n",
    "\n",
    "    # variables are declared in __init__\n",
    "    def __init__(self):\n",
    "        self.__pin = \"\"\n",
    "        self.__balance = 0\n",
    "        self.menu()\n",
    "\n",
    "    def menu(self):\n",
    "        user_input = input(\"\"\"\n",
    "Hello,how would you like to proceed?\n",
    "1.Enter 1 to create pin\n",
    "2. Enter 2 to deposit\n",
    "3. Enter 3 to withdraw\n",
    "4. Enter 4 to check balance\n",
    "5. Enter 5 to exit\"\"\")\n",
    "        if user_input == \"1\":\n",
    "            self.create_pin()\n",
    "        elif user_input == \"2\":\n",
    "            self.deposit()\n",
    "        elif user_input == \"3\":\n",
    "            self.withdraw()\n",
    "        elif user_input == \"4\":\n",
    "            self.check_balance()\n",
    "        elif user_input == \"5\":\n",
    "            print(\"Thank you.Come Again\")\n",
    "        else:\n",
    "            print(\"You have entered wrong number.Thank you\")\n",
    "\n",
    "    def create_pin(self):\n",
    "        self.__pin = input(\"Enter your pin: \")\n",
    "        print(\"Pin set succesfully.\")\n",
    "\n",
    "    def deposit(self):\n",
    "        attempts = 0\n",
    "        while attempts < 3:\n",
    "            temp = input(\"Enter your Account pin: \")\n",
    "            if temp == self.__pin:\n",
    "                deposit_amount = int(\n",
    "                    input(\"Enter the amount you want to deposit: \"))\n",
    "                self.__balance += deposit_amount\n",
    "                print(\"Amount is deposited succesfully.\")\n",
    "                return\n",
    "            else:\n",
    "                attempts += 1\n",
    "                print(f\"Incorrect pin. You have {\n",
    "                      3-attempts} attempts remaining\")\n",
    "        print(\"Too many incorrect attempts.Try again later\")\n",
    "\n",
    "    def withdraw(self):\n",
    "        attempts = 0\n",
    "        while attempts < 3:\n",
    "            temp = input(\"Enter your Account pin: \")\n",
    "            if temp == self.__pin:\n",
    "                deposit_amount = int(\n",
    "                    input(\"Enter the amount you want to Withdraw: \"))\n",
    "                if deposit_amount < self.__balance:\n",
    "                    print(\"Insufficient balance\")\n",
    "                else:\n",
    "                    self.__balance -= deposit_amount\n",
    "                    print(\"Amount is Withdrawn succesfully.\")\n",
    "                    return\n",
    "            else:\n",
    "                attempts += 1\n",
    "                print(f\"Incorrect pin. You have {\n",
    "                    3-attempts} attempts remaining\")\n",
    "                print(\"Too many incorrect attempts.Try again later\")\n",
    "\n",
    "    def check_balance(self):\n",
    "        attempts = 0\n",
    "        temp = input(\"Enter your Account pin: \")\n",
    "        if temp == self.__pin:\n",
    "            print(\"You current balance is\", self.__balance)\n",
    "        else:\n",
    "            attempts += 1\n",
    "            print(f\"Incorrect pin. You have {\n",
    "                3-attempts} attempts remaining\")\n",
    "            print(\"Too many incorrect attempts.Try again later\")"
   ]
  },
  {
   "cell_type": "code",
   "execution_count": 3,
   "metadata": {},
   "outputs": [
    {
     "name": "stdout",
     "output_type": "stream",
     "text": [
      "Pin set succesfully.\n"
     ]
    }
   ],
   "source": [
    "sbi=Atm()"
   ]
  },
  {
   "cell_type": "code",
   "execution_count": 6,
   "metadata": {},
   "outputs": [],
   "source": [
    "sbi.__balance=\"jfdghdfkjg\""
   ]
  },
  {
   "cell_type": "code",
   "execution_count": 7,
   "metadata": {},
   "outputs": [
    {
     "name": "stdout",
     "output_type": "stream",
     "text": [
      "Incorrect pin. You have 2 attempts remaining\n",
      "Amount is deposited succesfully.\n"
     ]
    }
   ],
   "source": [
    "sbi.deposit()"
   ]
  },
  {
   "cell_type": "code",
   "execution_count": 8,
   "metadata": {},
   "outputs": [],
   "source": [
    "sbi._Atm__balance=\"kjfdhgk\""
   ]
  },
  {
   "cell_type": "code",
   "execution_count": 9,
   "metadata": {},
   "outputs": [
    {
     "name": "stdout",
     "output_type": "stream",
     "text": [
      "Incorrect pin. You have 2 attempts remaining\n"
     ]
    },
    {
     "ename": "TypeError",
     "evalue": "can only concatenate str (not \"int\") to str",
     "output_type": "error",
     "traceback": [
      "\u001b[1;31m---------------------------------------------------------------------------\u001b[0m",
      "\u001b[1;31mTypeError\u001b[0m                                 Traceback (most recent call last)",
      "Cell \u001b[1;32mIn[9], line 1\u001b[0m\n\u001b[1;32m----> 1\u001b[0m \u001b[43msbi\u001b[49m\u001b[38;5;241;43m.\u001b[39;49m\u001b[43mdeposit\u001b[49m\u001b[43m(\u001b[49m\u001b[43m)\u001b[49m\n",
      "Cell \u001b[1;32mIn[2], line 44\u001b[0m, in \u001b[0;36mAtm.deposit\u001b[1;34m(self)\u001b[0m\n\u001b[0;32m     41\u001b[0m \u001b[38;5;28;01mif\u001b[39;00m temp \u001b[38;5;241m==\u001b[39m \u001b[38;5;28mself\u001b[39m\u001b[38;5;241m.\u001b[39m__pin:\n\u001b[0;32m     42\u001b[0m     deposit_amount \u001b[38;5;241m=\u001b[39m \u001b[38;5;28mint\u001b[39m(\n\u001b[0;32m     43\u001b[0m         \u001b[38;5;28minput\u001b[39m(\u001b[38;5;124m\"\u001b[39m\u001b[38;5;124mEnter the amount you want to deposit: \u001b[39m\u001b[38;5;124m\"\u001b[39m))\n\u001b[1;32m---> 44\u001b[0m     \u001b[38;5;28;43mself\u001b[39;49m\u001b[38;5;241;43m.\u001b[39;49m\u001b[43m__balance\u001b[49m\u001b[43m \u001b[49m\u001b[38;5;241;43m+\u001b[39;49m\u001b[38;5;241;43m=\u001b[39;49m\u001b[43m \u001b[49m\u001b[43mdeposit_amount\u001b[49m\n\u001b[0;32m     45\u001b[0m     \u001b[38;5;28mprint\u001b[39m(\u001b[38;5;124m\"\u001b[39m\u001b[38;5;124mAmount is deposited succesfully.\u001b[39m\u001b[38;5;124m\"\u001b[39m)\n\u001b[0;32m     46\u001b[0m     \u001b[38;5;28;01mreturn\u001b[39;00m\n",
      "\u001b[1;31mTypeError\u001b[0m: can only concatenate str (not \"int\") to str"
     ]
    }
   ],
   "source": [
    "sbi.deposit()"
   ]
  },
  {
   "cell_type": "code",
   "execution_count": null,
   "metadata": {},
   "outputs": [],
   "source": [
    "#nothing in python is truly private"
   ]
  },
  {
   "cell_type": "code",
   "execution_count": 10,
   "metadata": {},
   "outputs": [],
   "source": [
    "class Atm:\n",
    "    # functions vs methods\n",
    "    # methods are basically a function which is written inside a class\n",
    "    # function is a normal function which is not written in class\n",
    "\n",
    "    # variables are declared in __init__\n",
    "    def __init__(self):\n",
    "        self.__pin = \"\"\n",
    "        self.__balance = 0\n",
    "        self.menu()\n",
    "\n",
    "    def menu(self):\n",
    "        user_input = input(\"\"\"\n",
    "Hello,how would you like to proceed?\n",
    "1.Enter 1 to create pin\n",
    "2. Enter 2 to deposit\n",
    "3. Enter 3 to withdraw\n",
    "4. Enter 4 to check balance\n",
    "5. Enter 5 to exit\"\"\")\n",
    "        if user_input == \"1\":\n",
    "            self.create_pin()\n",
    "        elif user_input == \"2\":\n",
    "            self.deposit()\n",
    "        elif user_input == \"3\":\n",
    "            self.withdraw()\n",
    "        elif user_input == \"4\":\n",
    "            self.check_balance()\n",
    "        elif user_input == \"5\":\n",
    "            print(\"Thank you.Come Again\")\n",
    "        else:\n",
    "            print(\"You have entered wrong number.Thank you\")\n",
    "    def get_pin(self):\n",
    "        return self.__pin\n",
    "    \n",
    "    def set_pin(self,new_pin):\n",
    "        if type(new_pin)==str:\n",
    "            self.__pin=new_pin\n",
    "            print(\"Pin changed succesfully\")\n",
    "        else:\n",
    "            print(\"Pin cannot be changed\")\n",
    "            \n",
    "    def create_pin(self):\n",
    "        self.__pin = input(\"Enter your pin: \")\n",
    "        print(\"Pin set succesfully.\")\n",
    "\n",
    "    def deposit(self):\n",
    "        attempts = 0\n",
    "        while attempts < 3:\n",
    "            temp = input(\"Enter your Account pin: \")\n",
    "            if temp == self.__pin:\n",
    "                deposit_amount = int(\n",
    "                    input(\"Enter the amount you want to deposit: \"))\n",
    "                self.__balance += deposit_amount\n",
    "                print(\"Amount is deposited succesfully.\")\n",
    "                return\n",
    "            else:\n",
    "                attempts += 1\n",
    "                print(f\"Incorrect pin. You have {\n",
    "                      3-attempts} attempts remaining\")\n",
    "        print(\"Too many incorrect attempts.Try again later\")\n",
    "\n",
    "    def withdraw(self):\n",
    "        attempts = 0\n",
    "        while attempts < 3:\n",
    "            temp = input(\"Enter your Account pin: \")\n",
    "            if temp == self.__pin:\n",
    "                deposit_amount = int(\n",
    "                    input(\"Enter the amount you want to Withdraw: \"))\n",
    "                if deposit_amount < self.__balance:\n",
    "                    print(\"Insufficient balance\")\n",
    "                else:\n",
    "                    self.__balance -= deposit_amount\n",
    "                    print(\"Amount is Withdrawn succesfully.\")\n",
    "                    return\n",
    "            else:\n",
    "                attempts += 1\n",
    "                print(f\"Incorrect pin. You have {\n",
    "                    3-attempts} attempts remaining\")\n",
    "                print(\"Too many incorrect attempts.Try again later\")\n",
    "\n",
    "    def check_balance(self):\n",
    "        attempts = 0\n",
    "        temp = input(\"Enter your Account pin: \")\n",
    "        if temp == self.__pin:\n",
    "            print(\"You current balance is\", self.__balance)\n",
    "        else:\n",
    "            attempts += 1\n",
    "            print(f\"Incorrect pin. You have {\n",
    "                3-attempts} attempts remaining\")\n",
    "            print(\"Too many incorrect attempts.Try again later\")"
   ]
  },
  {
   "cell_type": "code",
   "execution_count": 11,
   "metadata": {},
   "outputs": [
    {
     "name": "stdout",
     "output_type": "stream",
     "text": [
      "Pin set succesfully.\n"
     ]
    }
   ],
   "source": [
    "sb=Atm()"
   ]
  },
  {
   "cell_type": "code",
   "execution_count": 12,
   "metadata": {},
   "outputs": [
    {
     "data": {
      "text/plain": [
       "''"
      ]
     },
     "execution_count": 12,
     "metadata": {},
     "output_type": "execute_result"
    }
   ],
   "source": [
    "sb.get_pin(\n",
    ")"
   ]
  },
  {
   "cell_type": "code",
   "execution_count": 13,
   "metadata": {},
   "outputs": [
    {
     "ename": "TypeError",
     "evalue": "Atm.set_pin() missing 1 required positional argument: 'new_pin'",
     "output_type": "error",
     "traceback": [
      "\u001b[1;31m---------------------------------------------------------------------------\u001b[0m",
      "\u001b[1;31mTypeError\u001b[0m                                 Traceback (most recent call last)",
      "Cell \u001b[1;32mIn[13], line 1\u001b[0m\n\u001b[1;32m----> 1\u001b[0m \u001b[43msb\u001b[49m\u001b[38;5;241;43m.\u001b[39;49m\u001b[43mset_pin\u001b[49m\u001b[43m(\u001b[49m\u001b[43m)\u001b[49m\n",
      "\u001b[1;31mTypeError\u001b[0m: Atm.set_pin() missing 1 required positional argument: 'new_pin'"
     ]
    }
   ],
   "source": [
    "sb.set_pin()"
   ]
  },
  {
   "cell_type": "code",
   "execution_count": 14,
   "metadata": {},
   "outputs": [
    {
     "name": "stdout",
     "output_type": "stream",
     "text": [
      "Pin cannot be changed\n"
     ]
    }
   ],
   "source": [
    "sb.set_pin(4.5\n",
    "           )"
   ]
  },
  {
   "cell_type": "code",
   "execution_count": 15,
   "metadata": {},
   "outputs": [
    {
     "name": "stdout",
     "output_type": "stream",
     "text": [
      "Pin changed succesfully\n"
     ]
    }
   ],
   "source": [
    "sb.set_pin(\"343\")"
   ]
  },
  {
   "cell_type": "code",
   "execution_count": null,
   "metadata": {},
   "outputs": [],
   "source": []
  }
 ],
 "metadata": {
  "kernelspec": {
   "display_name": "Python 3",
   "language": "python",
   "name": "python3"
  },
  "language_info": {
   "codemirror_mode": {
    "name": "ipython",
    "version": 3
   },
   "file_extension": ".py",
   "mimetype": "text/x-python",
   "name": "python",
   "nbconvert_exporter": "python",
   "pygments_lexer": "ipython3",
   "version": "3.12.3"
  }
 },
 "nbformat": 4,
 "nbformat_minor": 2
}
